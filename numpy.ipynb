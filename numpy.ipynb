{
  "nbformat": 4,
  "nbformat_minor": 0,
  "metadata": {
    "colab": {
      "name": "numpy.ipynb",
      "provenance": [],
      "collapsed_sections": []
    },
    "kernelspec": {
      "name": "python3",
      "display_name": "Python 3"
    },
    "language_info": {
      "name": "python"
    }
  },
  "cells": [
    {
      "cell_type": "code",
      "execution_count": 4,
      "metadata": {
        "colab": {
          "base_uri": "https://localhost:8080/"
        },
        "id": "A84uCtIa5ddf",
        "outputId": "36bcb345-b1a2-468e-bec8-054d2c547252"
      },
      "outputs": [
        {
          "output_type": "stream",
          "name": "stdout",
          "text": [
            "Enter a number : 1\n",
            "Factorial of number is  1\n"
          ]
        }
      ],
      "source": [
        "num = int(input(\"Enter a number : \"))\n",
        "\n",
        "factorial = 1\n",
        "if num == 0 and num == 1:\n",
        "  factorial =1\n",
        "else:\n",
        "\n",
        "  i=1\n",
        "  while(i<=num):\n",
        "    factorial = factorial * i\n",
        "    i=i+1\n",
        "\n",
        "print(\"Factorial of number is \",factorial)"
      ]
    },
    {
      "cell_type": "code",
      "source": [
        "def fact(num):\n",
        "  factorial =1\n",
        "  if num==0 & num==1:\n",
        "    return factorial\n",
        "  else :\n",
        "    for i in range(1,num+1):\n",
        "      factorial = factorial * i\n",
        "\n",
        "    return factorial\n",
        "\n",
        "print(fact(4))"
      ],
      "metadata": {
        "colab": {
          "base_uri": "https://localhost:8080/"
        },
        "id": "cOd6A6QO6rN7",
        "outputId": "f294f7d9-a06b-4c66-ea3d-7dc14db41db9"
      },
      "execution_count": 13,
      "outputs": [
        {
          "output_type": "stream",
          "name": "stdout",
          "text": [
            "24\n"
          ]
        }
      ]
    },
    {
      "cell_type": "code",
      "source": [
        "n = []\n",
        "n.append(1)\n",
        "print(n)"
      ],
      "metadata": {
        "colab": {
          "base_uri": "https://localhost:8080/"
        },
        "id": "eBcn3mzh-p7L",
        "outputId": "cbc532dd-0016-4055-8bf7-3a57bc44bda6"
      },
      "execution_count": 14,
      "outputs": [
        {
          "output_type": "stream",
          "name": "stdout",
          "text": [
            "[1]\n"
          ]
        }
      ]
    },
    {
      "cell_type": "code",
      "source": [
        "n.append(2)\n",
        "print(n)"
      ],
      "metadata": {
        "colab": {
          "base_uri": "https://localhost:8080/"
        },
        "id": "IPO0jaC4A__J",
        "outputId": "6d5fba90-93ab-420c-a244-d46dc9f90218"
      },
      "execution_count": 15,
      "outputs": [
        {
          "output_type": "stream",
          "name": "stdout",
          "text": [
            "[1, 2]\n"
          ]
        }
      ]
    },
    {
      "cell_type": "code",
      "source": [
        "name = input(\"Enter your name: \") \n",
        "  \n",
        "# user entered the name 'harssh'\n",
        "print(\"hello\", name)"
      ],
      "metadata": {
        "colab": {
          "base_uri": "https://localhost:8080/"
        },
        "id": "XMTaX9Q9BFQS",
        "outputId": "8cb31103-374c-4691-cc8b-fe5f654adfc7"
      },
      "execution_count": 16,
      "outputs": [
        {
          "output_type": "stream",
          "name": "stdout",
          "text": [
            "Enter your name: Vaibhav\n",
            "hello Vaibhav\n"
          ]
        }
      ]
    },
    {
      "cell_type": "code",
      "source": [
        "num1 = int(input(\"Enter num1: \"))\n",
        "num2 = int(input(\"Enter num2: \"))\n",
        "  \n",
        "num3 = num1 * num2\n",
        "print(\"Product is: \", num3)"
      ],
      "metadata": {
        "colab": {
          "base_uri": "https://localhost:8080/"
        },
        "id": "winEUjK1BNJf",
        "outputId": "da09d854-f49b-48df-cfc3-c14463265fb6"
      },
      "execution_count": 17,
      "outputs": [
        {
          "output_type": "stream",
          "name": "stdout",
          "text": [
            "Enter num1: 5\n",
            "Enter num2: 6\n",
            "Product is:  30\n"
          ]
        }
      ]
    },
    {
      "cell_type": "code",
      "source": [
        "num1 = 34\n",
        "if(num1>12):\n",
        "    print(\"Num1 is good\")\n",
        "elif(num1>35):\n",
        "    print(\"Num2 is not goooood...\")\n",
        "else:\n",
        "    print(\"Num2 is great\")"
      ],
      "metadata": {
        "colab": {
          "base_uri": "https://localhost:8080/"
        },
        "id": "RmITwq7MBVsV",
        "outputId": "6193b0a2-7c2e-4746-81f4-423fbc7d8ad1"
      },
      "execution_count": 18,
      "outputs": [
        {
          "output_type": "stream",
          "name": "stdout",
          "text": [
            "Num1 is good\n"
          ]
        }
      ]
    },
    {
      "cell_type": "code",
      "source": [
        "import numpy as np"
      ],
      "metadata": {
        "id": "uy-ufN6zBfB_"
      },
      "execution_count": 19,
      "outputs": []
    },
    {
      "cell_type": "code",
      "source": [
        "from time import process_time"
      ],
      "metadata": {
        "id": "sCGXuU1iFLm-"
      },
      "execution_count": 21,
      "outputs": []
    },
    {
      "cell_type": "code",
      "source": [
        "l = [i for i in range(10000)]\n",
        "strt = process_time()\n",
        "\n",
        "l = [i+5 for i in range(10000)]\n",
        "end = process_time()\n",
        "\n",
        "print(\"time = \",end-strt)"
      ],
      "metadata": {
        "colab": {
          "base_uri": "https://localhost:8080/"
        },
        "id": "sdZgu9poFein",
        "outputId": "29d4348d-9b57-4051-8721-c546b0588525"
      },
      "execution_count": 26,
      "outputs": [
        {
          "output_type": "stream",
          "name": "stdout",
          "text": [
            "time =  0.0011476620000010485\n"
          ]
        }
      ]
    },
    {
      "cell_type": "code",
      "source": [
        "ar = np.array([i for i in range(10)])\n",
        "\n",
        "strt = process_time()\n",
        "\n",
        "ar+=5\n",
        "\n",
        "end = process_time()\n",
        "\n",
        "print(\"time = \",end-strt)\n",
        "\n"
      ],
      "metadata": {
        "colab": {
          "base_uri": "https://localhost:8080/"
        },
        "id": "jhXjuXcuGlBy",
        "outputId": "41c76430-7888-4710-e3e2-4e21b103c054"
      },
      "execution_count": 25,
      "outputs": [
        {
          "output_type": "stream",
          "name": "stdout",
          "text": [
            "time =  0.0008806459999988192\n"
          ]
        }
      ]
    },
    {
      "cell_type": "code",
      "source": [
        "a = np.array([1,2,3,4])\n",
        "print(a)"
      ],
      "metadata": {
        "colab": {
          "base_uri": "https://localhost:8080/"
        },
        "id": "6BfRadzdHRVj",
        "outputId": "3e7f2869-ff9e-42ac-9b75-401902e96e1c"
      },
      "execution_count": 27,
      "outputs": [
        {
          "output_type": "stream",
          "name": "stdout",
          "text": [
            "[1 2 3 4]\n"
          ]
        }
      ]
    },
    {
      "cell_type": "code",
      "source": [
        "a.shape"
      ],
      "metadata": {
        "colab": {
          "base_uri": "https://localhost:8080/"
        },
        "id": "JAdMDyaXJqbo",
        "outputId": "76286ab5-a40d-45a8-f66f-e5e2b8886743"
      },
      "execution_count": 28,
      "outputs": [
        {
          "output_type": "execute_result",
          "data": {
            "text/plain": [
              "(4,)"
            ]
          },
          "metadata": {},
          "execution_count": 28
        }
      ]
    },
    {
      "cell_type": "code",
      "source": [
        "b = np.array([(1,2,3,4),(5,6,7,8)],dtype=float)\n",
        "print(b)\n",
        "b.shape"
      ],
      "metadata": {
        "colab": {
          "base_uri": "https://localhost:8080/"
        },
        "id": "5Lcmzn9qJtAq",
        "outputId": "f913aac4-ad3d-4fea-f383-a0dc60484493"
      },
      "execution_count": 31,
      "outputs": [
        {
          "output_type": "stream",
          "name": "stdout",
          "text": [
            "[[1. 2. 3. 4.]\n",
            " [5. 6. 7. 8.]]\n"
          ]
        },
        {
          "output_type": "execute_result",
          "data": {
            "text/plain": [
              "(2, 4)"
            ]
          },
          "metadata": {},
          "execution_count": 31
        }
      ]
    },
    {
      "cell_type": "code",
      "source": [
        "x = np.zeros((3,4))"
      ],
      "metadata": {
        "id": "BJ8p6UyfKMYj"
      },
      "execution_count": 32,
      "outputs": []
    },
    {
      "cell_type": "code",
      "source": [
        "print(x)"
      ],
      "metadata": {
        "colab": {
          "base_uri": "https://localhost:8080/"
        },
        "id": "qxapsTdhLbft",
        "outputId": "3b8966b7-0b19-435b-9189-14169a740c56"
      },
      "execution_count": 33,
      "outputs": [
        {
          "output_type": "stream",
          "name": "stdout",
          "text": [
            "[[0. 0. 0. 0.]\n",
            " [0. 0. 0. 0.]\n",
            " [0. 0. 0. 0.]]\n"
          ]
        }
      ]
    },
    {
      "cell_type": "code",
      "source": [
        "y = np.ones((4,4))"
      ],
      "metadata": {
        "id": "mppQn1uoLcs_"
      },
      "execution_count": 34,
      "outputs": []
    },
    {
      "cell_type": "code",
      "source": [
        "y"
      ],
      "metadata": {
        "colab": {
          "base_uri": "https://localhost:8080/"
        },
        "id": "p5QpG8bILwJq",
        "outputId": "c716df40-40c2-460a-8b3d-d2524b011ad7"
      },
      "execution_count": 35,
      "outputs": [
        {
          "output_type": "execute_result",
          "data": {
            "text/plain": [
              "array([[1., 1., 1., 1.],\n",
              "       [1., 1., 1., 1.],\n",
              "       [1., 1., 1., 1.],\n",
              "       [1., 1., 1., 1.]])"
            ]
          },
          "metadata": {},
          "execution_count": 35
        }
      ]
    },
    {
      "cell_type": "code",
      "source": [
        "print(y)"
      ],
      "metadata": {
        "colab": {
          "base_uri": "https://localhost:8080/"
        },
        "id": "ZbVWgA7lLwxv",
        "outputId": "82e626c5-21ce-4ed8-d15c-03b29d7937cb"
      },
      "execution_count": 36,
      "outputs": [
        {
          "output_type": "stream",
          "name": "stdout",
          "text": [
            "[[1. 1. 1. 1.]\n",
            " [1. 1. 1. 1.]\n",
            " [1. 1. 1. 1.]\n",
            " [1. 1. 1. 1.]]\n"
          ]
        }
      ]
    },
    {
      "cell_type": "code",
      "source": [
        "type(y)"
      ],
      "metadata": {
        "colab": {
          "base_uri": "https://localhost:8080/"
        },
        "id": "R-bNdjxKLy_n",
        "outputId": "3c684e86-7852-4a6c-eec0-af0f2f3fcc33"
      },
      "execution_count": 37,
      "outputs": [
        {
          "output_type": "execute_result",
          "data": {
            "text/plain": [
              "numpy.ndarray"
            ]
          },
          "metadata": {},
          "execution_count": 37
        }
      ]
    },
    {
      "cell_type": "code",
      "source": [
        "z = np.full((5,5),4)"
      ],
      "metadata": {
        "id": "FAB2ThN2L0Ya"
      },
      "execution_count": 42,
      "outputs": []
    },
    {
      "cell_type": "code",
      "source": [
        "print(z)\n",
        "z"
      ],
      "metadata": {
        "colab": {
          "base_uri": "https://localhost:8080/"
        },
        "id": "nkDXejZ5L9TV",
        "outputId": "4b20a4d5-9b60-48d8-d176-dbe740b27b5b"
      },
      "execution_count": 43,
      "outputs": [
        {
          "output_type": "stream",
          "name": "stdout",
          "text": [
            "[[4 4 4 4 4]\n",
            " [4 4 4 4 4]\n",
            " [4 4 4 4 4]\n",
            " [4 4 4 4 4]\n",
            " [4 4 4 4 4]]\n"
          ]
        },
        {
          "output_type": "execute_result",
          "data": {
            "text/plain": [
              "array([[4, 4, 4, 4, 4],\n",
              "       [4, 4, 4, 4, 4],\n",
              "       [4, 4, 4, 4, 4],\n",
              "       [4, 4, 4, 4, 4],\n",
              "       [4, 4, 4, 4, 4]])"
            ]
          },
          "metadata": {},
          "execution_count": 43
        }
      ]
    },
    {
      "cell_type": "code",
      "source": [
        "a = np.eye(5)\n",
        "a"
      ],
      "metadata": {
        "colab": {
          "base_uri": "https://localhost:8080/"
        },
        "id": "aUHDq3ORL-9F",
        "outputId": "1f8584b7-a45a-418a-d0ba-b93728ef1583"
      },
      "execution_count": 44,
      "outputs": [
        {
          "output_type": "execute_result",
          "data": {
            "text/plain": [
              "array([[1., 0., 0., 0., 0.],\n",
              "       [0., 1., 0., 0., 0.],\n",
              "       [0., 0., 1., 0., 0.],\n",
              "       [0., 0., 0., 1., 0.],\n",
              "       [0., 0., 0., 0., 1.]])"
            ]
          },
          "metadata": {},
          "execution_count": 44
        }
      ]
    },
    {
      "cell_type": "code",
      "source": [
        "n = np.random.random((3,3))\n",
        "n"
      ],
      "metadata": {
        "colab": {
          "base_uri": "https://localhost:8080/"
        },
        "id": "fmWh8YmxMxfQ",
        "outputId": "dd2ab599-73f5-4fad-cdd1-641f49fbf899"
      },
      "execution_count": 45,
      "outputs": [
        {
          "output_type": "execute_result",
          "data": {
            "text/plain": [
              "array([[0.69429292, 0.69659456, 0.01166894],\n",
              "       [0.39928629, 0.2064929 , 0.55503938],\n",
              "       [0.79702147, 0.77018759, 0.65874158]])"
            ]
          },
          "metadata": {},
          "execution_count": 45
        }
      ]
    },
    {
      "cell_type": "code",
      "source": [
        "c = np.random.randint(10,100,(3,3))\n",
        "c"
      ],
      "metadata": {
        "colab": {
          "base_uri": "https://localhost:8080/"
        },
        "id": "M_hPWoVYNaAo",
        "outputId": "53bb3d8b-9dba-4df6-a7bf-cf246c1d4e2d"
      },
      "execution_count": 46,
      "outputs": [
        {
          "output_type": "execute_result",
          "data": {
            "text/plain": [
              "array([[31, 26, 97],\n",
              "       [29, 17, 40],\n",
              "       [92, 42, 46]])"
            ]
          },
          "metadata": {},
          "execution_count": 46
        }
      ]
    },
    {
      "cell_type": "code",
      "source": [
        "c = np.random.randint(10,100,(3,3))\n",
        "c"
      ],
      "metadata": {
        "colab": {
          "base_uri": "https://localhost:8080/"
        },
        "id": "TjP0i0ejOAS3",
        "outputId": "4e5a887d-3d4d-4fa7-8874-3c674464fb62"
      },
      "execution_count": 47,
      "outputs": [
        {
          "output_type": "execute_result",
          "data": {
            "text/plain": [
              "array([[77, 66, 39],\n",
              "       [60, 35, 94],\n",
              "       [87, 49, 45]])"
            ]
          },
          "metadata": {},
          "execution_count": 47
        }
      ]
    },
    {
      "cell_type": "code",
      "source": [
        "print(c)"
      ],
      "metadata": {
        "colab": {
          "base_uri": "https://localhost:8080/"
        },
        "id": "FzKYg_siOQOw",
        "outputId": "714c7c94-2830-4feb-c287-aa2ef4e073aa"
      },
      "execution_count": 48,
      "outputs": [
        {
          "output_type": "stream",
          "name": "stdout",
          "text": [
            "[[77 66 39]\n",
            " [60 35 94]\n",
            " [87 49 45]]\n"
          ]
        }
      ]
    },
    {
      "cell_type": "code",
      "source": [
        "v = np.linspace(10,30,5)\n",
        "print(v)"
      ],
      "metadata": {
        "colab": {
          "base_uri": "https://localhost:8080/"
        },
        "id": "w6Ie-HqGOSvq",
        "outputId": "25e3cbfc-ffa0-4d13-a7c6-e78ca60d05c0"
      },
      "execution_count": 53,
      "outputs": [
        {
          "output_type": "stream",
          "name": "stdout",
          "text": [
            "[10. 15. 20. 25. 30.]\n"
          ]
        }
      ]
    },
    {
      "cell_type": "code",
      "source": [
        "l2 = [10,203,303.36]\n",
        "np1 = np.asarray(l2)\n",
        "print(np1)\n",
        "print(type(np1))\n",
        "print(type(l2))"
      ],
      "metadata": {
        "colab": {
          "base_uri": "https://localhost:8080/"
        },
        "id": "XHwV4vh1O_mL",
        "outputId": "8c404717-9ea9-4130-ca6f-1a7f0c7fb76f"
      },
      "execution_count": 55,
      "outputs": [
        {
          "output_type": "stream",
          "name": "stdout",
          "text": [
            "[ 10.   203.   303.36]\n",
            "<class 'numpy.ndarray'>\n",
            "<class 'list'>\n"
          ]
        }
      ]
    },
    {
      "cell_type": "code",
      "source": [
        "h = np.random.randint(10,99,(4,4))\n",
        "print(h)"
      ],
      "metadata": {
        "colab": {
          "base_uri": "https://localhost:8080/"
        },
        "id": "CFfxEEITQtin",
        "outputId": "0342d8c9-fb85-46f8-f00c-0b363d294fa1"
      },
      "execution_count": 56,
      "outputs": [
        {
          "output_type": "stream",
          "name": "stdout",
          "text": [
            "[[30 47 10 76]\n",
            " [12 43 30 67]\n",
            " [56 14 67 91]\n",
            " [58 73 62 97]]\n"
          ]
        }
      ]
    },
    {
      "cell_type": "code",
      "source": [
        "print(h.shape)"
      ],
      "metadata": {
        "colab": {
          "base_uri": "https://localhost:8080/"
        },
        "id": "o3G8H_sKSWhT",
        "outputId": "56be5945-73f8-4e21-a90e-258181af9186"
      },
      "execution_count": 57,
      "outputs": [
        {
          "output_type": "stream",
          "name": "stdout",
          "text": [
            "(4, 4)\n"
          ]
        }
      ]
    },
    {
      "cell_type": "code",
      "source": [
        "print(h.ndim)"
      ],
      "metadata": {
        "colab": {
          "base_uri": "https://localhost:8080/"
        },
        "id": "neT46CxWSY7R",
        "outputId": "00662532-2899-44ae-fb46-852e1dc970aa"
      },
      "execution_count": 58,
      "outputs": [
        {
          "output_type": "stream",
          "name": "stdout",
          "text": [
            "2\n"
          ]
        }
      ]
    },
    {
      "cell_type": "code",
      "source": [
        "print(h.size)\n",
        "print(h.dtype)"
      ],
      "metadata": {
        "colab": {
          "base_uri": "https://localhost:8080/"
        },
        "id": "QRUdQ0CGSbE6",
        "outputId": "4bc1d73e-6822-4598-c2a4-c202aa7bdb07"
      },
      "execution_count": 60,
      "outputs": [
        {
          "output_type": "stream",
          "name": "stdout",
          "text": [
            "16\n",
            "int64\n"
          ]
        }
      ]
    },
    {
      "cell_type": "code",
      "source": [
        "np1 = np.random.randint(0,10,(3,3))\n",
        "np2 = np.random.randint(10,20,(3,3))\n",
        "print(np1)\n",
        "print(np2)"
      ],
      "metadata": {
        "colab": {
          "base_uri": "https://localhost:8080/"
        },
        "id": "maaM1w6SSye-",
        "outputId": "29e2777d-c572-42b7-d03d-45e2af204e9f"
      },
      "execution_count": 61,
      "outputs": [
        {
          "output_type": "stream",
          "name": "stdout",
          "text": [
            "[[3 5 6]\n",
            " [5 8 3]\n",
            " [8 7 7]]\n",
            "[[15 13 14]\n",
            " [19 14 16]\n",
            " [18 13 11]]\n"
          ]
        }
      ]
    },
    {
      "cell_type": "code",
      "source": [
        "print(np.add(np1,np2))\n",
        "print(np1+np2)"
      ],
      "metadata": {
        "colab": {
          "base_uri": "https://localhost:8080/"
        },
        "id": "5SWMGy5aTYfO",
        "outputId": "00ac9065-eb31-4f3d-b2c2-7d112f6e6c49"
      },
      "execution_count": 66,
      "outputs": [
        {
          "output_type": "stream",
          "name": "stdout",
          "text": [
            "[[18 18 20]\n",
            " [24 22 19]\n",
            " [26 20 18]]\n",
            "[[18 18 20]\n",
            " [24 22 19]\n",
            " [26 20 18]]\n"
          ]
        }
      ]
    },
    {
      "cell_type": "code",
      "source": [
        "print(np.subtract(np1,np2))\n",
        "print(np1-np2)"
      ],
      "metadata": {
        "colab": {
          "base_uri": "https://localhost:8080/"
        },
        "id": "xfYuslz2T9tE",
        "outputId": "d335cef0-f994-46ff-82d0-2a9a054ab94e"
      },
      "execution_count": 67,
      "outputs": [
        {
          "output_type": "stream",
          "name": "stdout",
          "text": [
            "[[-12  -8  -8]\n",
            " [-14  -6 -13]\n",
            " [-10  -6  -4]]\n",
            "[[-12  -8  -8]\n",
            " [-14  -6 -13]\n",
            " [-10  -6  -4]]\n"
          ]
        }
      ]
    },
    {
      "cell_type": "code",
      "source": [
        "print(np.multiply(np1,np2))\n",
        "print(np.divide(np1,np2))\n",
        "print(np1*np2)\n",
        "print(np1/np2)\n"
      ],
      "metadata": {
        "colab": {
          "base_uri": "https://localhost:8080/"
        },
        "id": "atI0_EwFUDPc",
        "outputId": "67668f40-9454-4d95-b619-bfffb3af6825"
      },
      "execution_count": 68,
      "outputs": [
        {
          "output_type": "stream",
          "name": "stdout",
          "text": [
            "[[ 45  65  84]\n",
            " [ 95 112  48]\n",
            " [144  91  77]]\n",
            "[[0.2        0.38461538 0.42857143]\n",
            " [0.26315789 0.57142857 0.1875    ]\n",
            " [0.44444444 0.53846154 0.63636364]]\n",
            "[[ 45  65  84]\n",
            " [ 95 112  48]\n",
            " [144  91  77]]\n",
            "[[0.2        0.38461538 0.42857143]\n",
            " [0.26315789 0.57142857 0.1875    ]\n",
            " [0.44444444 0.53846154 0.63636364]]\n"
          ]
        }
      ]
    },
    {
      "cell_type": "code",
      "source": [
        "import numpy as np\n",
        "a = np.random.randint(10,100,(3,4))\n",
        "print(a)"
      ],
      "metadata": {
        "colab": {
          "base_uri": "https://localhost:8080/"
        },
        "id": "T3TMDbH5UOYh",
        "outputId": "d5b3d1be-20f4-4b4b-bc66-bc19f2248ab2"
      },
      "execution_count": 2,
      "outputs": [
        {
          "output_type": "stream",
          "name": "stdout",
          "text": [
            "[[85 59 43 54]\n",
            " [69 69 85 20]\n",
            " [90 63 77 53]]\n"
          ]
        }
      ]
    },
    {
      "cell_type": "code",
      "source": [
        "b = a.T\n",
        "b"
      ],
      "metadata": {
        "colab": {
          "base_uri": "https://localhost:8080/"
        },
        "id": "qhhK06oGet_q",
        "outputId": "7d3fc686-df7d-4af5-f4bf-1eb9067ca192"
      },
      "execution_count": 3,
      "outputs": [
        {
          "output_type": "execute_result",
          "data": {
            "text/plain": [
              "array([[85, 69, 90],\n",
              "       [59, 69, 63],\n",
              "       [43, 85, 77],\n",
              "       [54, 20, 53]])"
            ]
          },
          "metadata": {},
          "execution_count": 3
        }
      ]
    },
    {
      "cell_type": "code",
      "source": [
        "b.shape"
      ],
      "metadata": {
        "colab": {
          "base_uri": "https://localhost:8080/"
        },
        "id": "S3akAdlYfcD5",
        "outputId": "ae5f7062-7b6b-4cc9-9968-c83df5201284"
      },
      "execution_count": 4,
      "outputs": [
        {
          "output_type": "execute_result",
          "data": {
            "text/plain": [
              "(4, 3)"
            ]
          },
          "metadata": {},
          "execution_count": 4
        }
      ]
    },
    {
      "cell_type": "code",
      "source": [
        "b.reshape(4,3)"
      ],
      "metadata": {
        "colab": {
          "base_uri": "https://localhost:8080/"
        },
        "id": "QAeLhF11fekV",
        "outputId": "ab7da5cb-c229-4a18-b5f7-19aed47c65f0"
      },
      "execution_count": 5,
      "outputs": [
        {
          "output_type": "execute_result",
          "data": {
            "text/plain": [
              "array([[85, 69, 90],\n",
              "       [59, 69, 63],\n",
              "       [43, 85, 77],\n",
              "       [54, 20, 53]])"
            ]
          },
          "metadata": {},
          "execution_count": 5
        }
      ]
    },
    {
      "cell_type": "code",
      "source": [
        "b.shape"
      ],
      "metadata": {
        "colab": {
          "base_uri": "https://localhost:8080/"
        },
        "id": "548A-XDvfiMn",
        "outputId": "cadbf236-c1c0-406c-ba3b-2b0fb06d9fce"
      },
      "execution_count": 6,
      "outputs": [
        {
          "output_type": "execute_result",
          "data": {
            "text/plain": [
              "(4, 3)"
            ]
          },
          "metadata": {},
          "execution_count": 6
        }
      ]
    },
    {
      "cell_type": "code",
      "source": [
        "b.reshape(3,4)\n"
      ],
      "metadata": {
        "colab": {
          "base_uri": "https://localhost:8080/"
        },
        "id": "6PqJsD9rfkUz",
        "outputId": "be50b1ba-055d-428a-f263-9366505618f2"
      },
      "execution_count": 8,
      "outputs": [
        {
          "output_type": "execute_result",
          "data": {
            "text/plain": [
              "array([[85, 69, 90, 59],\n",
              "       [69, 63, 43, 85],\n",
              "       [77, 54, 20, 53]])"
            ]
          },
          "metadata": {},
          "execution_count": 8
        }
      ]
    },
    {
      "cell_type": "code",
      "source": [
        "b.shape"
      ],
      "metadata": {
        "colab": {
          "base_uri": "https://localhost:8080/"
        },
        "id": "WKfLwmvxfpnA",
        "outputId": "ec6cfc62-a26f-4dcd-8113-3778b5a0b85d"
      },
      "execution_count": 9,
      "outputs": [
        {
          "output_type": "execute_result",
          "data": {
            "text/plain": [
              "(4, 3)"
            ]
          },
          "metadata": {},
          "execution_count": 9
        }
      ]
    },
    {
      "cell_type": "code",
      "source": [
        "b"
      ],
      "metadata": {
        "colab": {
          "base_uri": "https://localhost:8080/"
        },
        "id": "jUtwDmsafzno",
        "outputId": "2db1de9f-dc14-4301-8a47-5f0dc4d16d49"
      },
      "execution_count": 10,
      "outputs": [
        {
          "output_type": "execute_result",
          "data": {
            "text/plain": [
              "array([[85, 69, 90],\n",
              "       [59, 69, 63],\n",
              "       [43, 85, 77],\n",
              "       [54, 20, 53]])"
            ]
          },
          "metadata": {},
          "execution_count": 10
        }
      ]
    },
    {
      "cell_type": "code",
      "source": [
        "b.T"
      ],
      "metadata": {
        "colab": {
          "base_uri": "https://localhost:8080/"
        },
        "id": "sJdfBVnSf166",
        "outputId": "093f2204-9ae2-418e-c75b-1ee1a29a4bb5"
      },
      "execution_count": 11,
      "outputs": [
        {
          "output_type": "execute_result",
          "data": {
            "text/plain": [
              "array([[85, 59, 43, 54],\n",
              "       [69, 69, 85, 20],\n",
              "       [90, 63, 77, 53]])"
            ]
          },
          "metadata": {},
          "execution_count": 11
        }
      ]
    },
    {
      "cell_type": "code",
      "source": [
        ""
      ],
      "metadata": {
        "id": "bKwicY-xf3cf"
      },
      "execution_count": null,
      "outputs": []
    }
  ]
}